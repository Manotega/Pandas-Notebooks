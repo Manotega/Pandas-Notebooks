{
 "cells": [
  {
   "cell_type": "code",
   "execution_count": 13,
   "id": "4eaaa483-50af-4f9c-ba12-4338d4744429",
   "metadata": {},
   "outputs": [],
   "source": [
    "import sqlalchemy\n",
    "import pandas as pd"
   ]
  },
  {
   "cell_type": "code",
   "execution_count": 2,
   "id": "5b9ff07f-7d75-4fef-a30c-b9a35db27af7",
   "metadata": {},
   "outputs": [],
   "source": [
    "from sqlalchemy import create_engine, MetaData, table, inspect"
   ]
  },
  {
   "cell_type": "code",
   "execution_count": 15,
   "id": "bee52afd-73a7-4a09-a00b-3d9b7d771750",
   "metadata": {},
   "outputs": [],
   "source": [
    "engine = create_engine('sqlite:///meubanco.db')"
   ]
  },
  {
   "cell_type": "code",
   "execution_count": 16,
   "id": "31bfd0b2-c2a8-46f3-bbe1-b5ae3ea5e6ad",
   "metadata": {},
   "outputs": [],
   "source": [
    "url = 'https://raw.githubusercontent.com/alura-cursos/Pandas/refs/heads/main/clientes_banco.csv'"
   ]
  },
  {
   "cell_type": "code",
   "execution_count": 17,
   "id": "b2253d36-616b-4c08-ac84-10dffe6de425",
   "metadata": {},
   "outputs": [],
   "source": [
    "dados = pd.read_csv(url)"
   ]
  },
  {
   "cell_type": "code",
   "execution_count": 18,
   "id": "65516c2a-4131-4b44-9385-63acc1219d03",
   "metadata": {},
   "outputs": [
    {
     "data": {
      "text/html": [
       "<div>\n",
       "<style scoped>\n",
       "    .dataframe tbody tr th:only-of-type {\n",
       "        vertical-align: middle;\n",
       "    }\n",
       "\n",
       "    .dataframe tbody tr th {\n",
       "        vertical-align: top;\n",
       "    }\n",
       "\n",
       "    .dataframe thead th {\n",
       "        text-align: right;\n",
       "    }\n",
       "</style>\n",
       "<table border=\"1\" class=\"dataframe\">\n",
       "  <thead>\n",
       "    <tr style=\"text-align: right;\">\n",
       "      <th></th>\n",
       "      <th>ID_Cliente</th>\n",
       "      <th>Idade</th>\n",
       "      <th>Grau_escolaridade</th>\n",
       "      <th>Estado_civil</th>\n",
       "      <th>Tamanho_familia</th>\n",
       "      <th>Categoria_de_renda</th>\n",
       "      <th>Ocupacao</th>\n",
       "      <th>Anos_empregado</th>\n",
       "      <th>Rendimento_anual</th>\n",
       "      <th>Tem_carro</th>\n",
       "      <th>Moradia</th>\n",
       "    </tr>\n",
       "  </thead>\n",
       "  <tbody>\n",
       "    <tr>\n",
       "      <th>0</th>\n",
       "      <td>5008804</td>\n",
       "      <td>32</td>\n",
       "      <td>Ensino superior</td>\n",
       "      <td>União-estável</td>\n",
       "      <td>2</td>\n",
       "      <td>Empregado</td>\n",
       "      <td>Outro</td>\n",
       "      <td>12</td>\n",
       "      <td>427500.0</td>\n",
       "      <td>1</td>\n",
       "      <td>Apartamento alugado</td>\n",
       "    </tr>\n",
       "    <tr>\n",
       "      <th>1</th>\n",
       "      <td>5008805</td>\n",
       "      <td>32</td>\n",
       "      <td>Ensino superior</td>\n",
       "      <td>União-estável</td>\n",
       "      <td>2</td>\n",
       "      <td>Empregado</td>\n",
       "      <td>Outro</td>\n",
       "      <td>12</td>\n",
       "      <td>427500.0</td>\n",
       "      <td>1</td>\n",
       "      <td>Apartamento alugado</td>\n",
       "    </tr>\n",
       "    <tr>\n",
       "      <th>2</th>\n",
       "      <td>5008806</td>\n",
       "      <td>58</td>\n",
       "      <td>Ensino médio</td>\n",
       "      <td>Casado</td>\n",
       "      <td>2</td>\n",
       "      <td>Empregado</td>\n",
       "      <td>Segurança</td>\n",
       "      <td>3</td>\n",
       "      <td>112500.0</td>\n",
       "      <td>1</td>\n",
       "      <td>Casa/apartamento próprio</td>\n",
       "    </tr>\n",
       "    <tr>\n",
       "      <th>3</th>\n",
       "      <td>5008808</td>\n",
       "      <td>52</td>\n",
       "      <td>Ensino médio</td>\n",
       "      <td>Solteiro</td>\n",
       "      <td>1</td>\n",
       "      <td>Associado comercial</td>\n",
       "      <td>Vendas</td>\n",
       "      <td>8</td>\n",
       "      <td>270000.0</td>\n",
       "      <td>0</td>\n",
       "      <td>Casa/apartamento próprio</td>\n",
       "    </tr>\n",
       "    <tr>\n",
       "      <th>4</th>\n",
       "      <td>5008809</td>\n",
       "      <td>52</td>\n",
       "      <td>Ensino médio</td>\n",
       "      <td>Solteiro</td>\n",
       "      <td>1</td>\n",
       "      <td>Associado comercial</td>\n",
       "      <td>Vendas</td>\n",
       "      <td>8</td>\n",
       "      <td>270000.0</td>\n",
       "      <td>0</td>\n",
       "      <td>Casa/apartamento próprio</td>\n",
       "    </tr>\n",
       "  </tbody>\n",
       "</table>\n",
       "</div>"
      ],
      "text/plain": [
       "   ID_Cliente  Idade Grau_escolaridade   Estado_civil  Tamanho_familia  \\\n",
       "0     5008804     32   Ensino superior  União-estável                2   \n",
       "1     5008805     32   Ensino superior  União-estável                2   \n",
       "2     5008806     58      Ensino médio         Casado                2   \n",
       "3     5008808     52      Ensino médio       Solteiro                1   \n",
       "4     5008809     52      Ensino médio       Solteiro                1   \n",
       "\n",
       "    Categoria_de_renda   Ocupacao  Anos_empregado  Rendimento_anual  \\\n",
       "0            Empregado      Outro              12          427500.0   \n",
       "1            Empregado      Outro              12          427500.0   \n",
       "2            Empregado  Segurança               3          112500.0   \n",
       "3  Associado comercial     Vendas               8          270000.0   \n",
       "4  Associado comercial     Vendas               8          270000.0   \n",
       "\n",
       "   Tem_carro                   Moradia  \n",
       "0          1       Apartamento alugado  \n",
       "1          1       Apartamento alugado  \n",
       "2          1  Casa/apartamento próprio  \n",
       "3          0  Casa/apartamento próprio  \n",
       "4          0  Casa/apartamento próprio  "
      ]
     },
     "execution_count": 18,
     "metadata": {},
     "output_type": "execute_result"
    }
   ],
   "source": [
    "dados.head()"
   ]
  },
  {
   "cell_type": "code",
   "execution_count": 19,
   "id": "4e94393e-16c0-43ab-9941-4f58857c8e06",
   "metadata": {},
   "outputs": [
    {
     "data": {
      "text/plain": [
       "438463"
      ]
     },
     "execution_count": 19,
     "metadata": {},
     "output_type": "execute_result"
    }
   ],
   "source": [
    "dados.to_sql('clientes', engine, index=False)"
   ]
  },
  {
   "cell_type": "code",
   "execution_count": 20,
   "id": "69058b8b-089b-478e-9282-75333435a7db",
   "metadata": {},
   "outputs": [
    {
     "name": "stdout",
     "output_type": "stream",
     "text": [
      "['clientes']\n"
     ]
    }
   ],
   "source": [
    "inspector = inspect(engine)\n",
    "print(inspector.get_table_names())"
   ]
  },
  {
   "cell_type": "code",
   "execution_count": 21,
   "id": "b9344c85-4397-4c5a-9398-0f43890e86cc",
   "metadata": {},
   "outputs": [],
   "source": [
    "query = 'SELECT * FROM clientes WHERE Categoria_de_renda=\"Empregado\"'"
   ]
  },
  {
   "cell_type": "code",
   "execution_count": 22,
   "id": "a9a45634-e9ba-4288-b260-4797d04cfa13",
   "metadata": {},
   "outputs": [],
   "source": [
    "empregados = pd.read_sql(query, engine)"
   ]
  },
  {
   "cell_type": "code",
   "execution_count": 24,
   "id": "cb02b163-f92e-4681-b256-f9b653717024",
   "metadata": {},
   "outputs": [
    {
     "data": {
      "text/plain": [
       "226059"
      ]
     },
     "execution_count": 24,
     "metadata": {},
     "output_type": "execute_result"
    }
   ],
   "source": [
    "empregados.to_sql('empregados', con=engine, index=False)"
   ]
  },
  {
   "cell_type": "code",
   "execution_count": null,
   "id": "ad8c5391-2ad5-464b-808a-42ef054a3123",
   "metadata": {},
   "outputs": [],
   "source": []
  }
 ],
 "metadata": {
  "kernelspec": {
   "display_name": "Python 3 (ipykernel)",
   "language": "python",
   "name": "python3"
  },
  "language_info": {
   "codemirror_mode": {
    "name": "ipython",
    "version": 3
   },
   "file_extension": ".py",
   "mimetype": "text/x-python",
   "name": "python",
   "nbconvert_exporter": "python",
   "pygments_lexer": "ipython3",
   "version": "3.12.7"
  }
 },
 "nbformat": 4,
 "nbformat_minor": 5
}
